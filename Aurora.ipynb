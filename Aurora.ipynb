{
  "nbformat": 4,
  "nbformat_minor": 0,
  "metadata": {
    "colab": {
      "name": "Aurora",
      "provenance": []
    },
    "kernelspec": {
      "name": "python3",
      "display_name": "Python 3"
    },
    "language_info": {
      "name": "python"
    }
  },
  "cells": [
    {
      "cell_type": "code",
      "metadata": {
        "colab": {
          "base_uri": "https://localhost:8080/"
        },
        "id": "ZQLRXOl5YMs1",
        "outputId": "816433b0-70ee-4ac8-87c8-3c2d5c59dacb"
      },
      "source": [
        "import tensorflow.keras\n",
        "from PIL import Image, ImageOps\n",
        "import numpy as np\n",
        " \n",
        "np.set_printoptions(suppress=True)\n",
        " \n",
        "# Load the model\n",
        "model = tensorflow.keras.models.load_model('keras_model.h5')\n",
        " \n",
        "data = np.ndarray(shape=(1, 224, 224, 3), dtype=np.float32)\n",
        " \n",
        "# Path to image\n",
        "image = Image.open('test_image.jpg')\n",
        " \n",
        "size = (224, 224)\n",
        "image = ImageOps.fit(image, size, Image.ANTIALIAS)\n",
        " \n",
        "image_array = np.asarray(image)\n",
        " \n",
        "image.show()\n",
        " \n",
        "normalized_image_array = (image_array.astype(np.float32) / 127.0) - 1\n",
        " \n",
        "data[0] = normalized_image_array\n",
        " \n",
        "# Print the Prediction\n",
        "prediction = model.predict(data)\n",
        "if prediction[0][0] > 0.8:\n",
        "  print(\"Jackfruit\")\n",
        "elif prediction[0][1] > 0.8:\n",
        "  print(\"Mango\")\n",
        "else:\n",
        "  print(\"Unknown Fruit\")"
      ],
      "execution_count": null,
      "outputs": [
        {
          "output_type": "stream",
          "text": [
            "WARNING:tensorflow:No training configuration found in the save file, so the model was *not* compiled. Compile it manually.\n",
            "WARNING:tensorflow:10 out of the last 10 calls to <function Model.make_predict_function.<locals>.predict_function at 0x7f4d7cfc1cb0> triggered tf.function retracing. Tracing is expensive and the excessive number of tracings could be due to (1) creating @tf.function repeatedly in a loop, (2) passing tensors with different shapes, (3) passing Python objects instead of tensors. For (1), please define your @tf.function outside of the loop. For (2), @tf.function has experimental_relax_shapes=True option that relaxes argument shapes that can avoid unnecessary retracing. For (3), please refer to https://www.tensorflow.org/guide/function#controlling_retracing and https://www.tensorflow.org/api_docs/python/tf/function for  more details.\n",
            "Mango\n"
          ],
          "name": "stdout"
        }
      ]
    }
  ]
}